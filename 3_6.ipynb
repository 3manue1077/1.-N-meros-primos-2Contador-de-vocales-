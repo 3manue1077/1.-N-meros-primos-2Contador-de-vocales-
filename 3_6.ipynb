{
  "nbformat": 4,
  "nbformat_minor": 0,
  "metadata": {
    "colab": {
      "provenance": [],
      "authorship_tag": "ABX9TyMQ+rBbEj9R80MOksoV6Ubz",
      "include_colab_link": true
    },
    "kernelspec": {
      "name": "python3",
      "display_name": "Python 3"
    },
    "language_info": {
      "name": "python"
    }
  },
  "cells": [
    {
      "cell_type": "markdown",
      "metadata": {
        "id": "view-in-github",
        "colab_type": "text"
      },
      "source": [
        "<a href=\"https://colab.research.google.com/github/3manue1077/1.-N-meros-primos-2Contador-de-vocales-/blob/main/3_6.ipynb\" target=\"_parent\"><img src=\"https://colab.research.google.com/assets/colab-badge.svg\" alt=\"Open In Colab\"/></a>"
      ]
    },
    {
      "cell_type": "code",
      "source": [
        "def crear_diccionario():\n",
        "    n = int(input(\"ingrese un numero entero positivo: \"))\n",
        "    dic = {}\n",
        "    for i in range(1, n+1):\n",
        "        dic[i] = i ** 2\n",
        "    print(\"diccionario creado:\", dic)\n",
        "\n",
        "crear_diccionario()\n",
        "\n"
      ],
      "metadata": {
        "colab": {
          "base_uri": "https://localhost:8080/"
        },
        "id": "Q2mqSuEBovNG",
        "outputId": "a6ce85ad-b32d-486f-bd07-742030f1d663"
      },
      "execution_count": 3,
      "outputs": [
        {
          "output_type": "stream",
          "name": "stdout",
          "text": [
            "ingrese un numero entero positivo: 9\n",
            "diccionario creado: {1: 1, 2: 4, 3: 9, 4: 16, 5: 25, 6: 36, 7: 49, 8: 64, 9: 81}\n"
          ]
        }
      ]
    },
    {
      "cell_type": "code",
      "source": [
        "def contar_caracteres(cadena):\n",
        "    conteo = {}\n",
        "    for c in cadena:\n",
        "        if c in conteo:\n",
        "            conteo[c] += 1\n",
        "        else:\n",
        "            conteo[c] = 1\n",
        "    return conteo\n",
        "\n",
        "texto = input(\"escribe una cadena: \")\n",
        "resultado = contar_caracteres(texto)\n",
        "print(\"cantidad de apariciones:\", resultado)"
      ],
      "metadata": {
        "colab": {
          "base_uri": "https://localhost:8080/"
        },
        "id": "fduzIGFGsWR_",
        "outputId": "435c0a30-fbac-41c3-e849-9e78d0507313"
      },
      "execution_count": 4,
      "outputs": [
        {
          "output_type": "stream",
          "name": "stdout",
          "text": [
            "escribe una cadena: programando\n",
            "cantidad de apariciones: {'p': 1, 'r': 2, 'o': 2, 'g': 1, 'a': 2, 'm': 1, 'n': 1, 'd': 1}\n"
          ]
        }
      ]
    },
    {
      "cell_type": "code",
      "source": [
        "def frutas():\n",
        "    precios = {\n",
        "        \"banano\":3000,\n",
        "        \"manzana\":750,\n",
        "        \"pera\":400,\n",
        "        \"uva\":2500,\n",
        "        \"naranja\":1000,\n",
        "    }\n",
        "\n",
        "    while True:\n",
        "        fruta = input(\"ingrese el nombre de la fruta: \").lower()\n",
        "        if fruta in precios:\n",
        "            cantidad = int(input(\"cuantos kilos vendio??: \"))\n",
        "            total = precios[fruta] * cantidad\n",
        "            print(\"el precio total es:\", total)\n",
        "\n",
        "        else:\n",
        "            print(\"error: esa fruta no esta registrada.\")\n",
        "\n",
        "        otra = input(\"desea hacer otra consulta??? (si/no): \").lower()\n",
        "        if otra != \"s\":\n",
        "\n",
        "            break\n",
        "\n",
        "frutas()"
      ],
      "metadata": {
        "colab": {
          "base_uri": "https://localhost:8080/"
        },
        "id": "zoWCkqQJ1P6x",
        "outputId": "8b1e611f-dae5-443e-c835-fe6de3259f74"
      },
      "execution_count": 7,
      "outputs": [
        {
          "name": "stdout",
          "output_type": "stream",
          "text": [
            "ingrese el nombre de la fruta: naranja\n",
            "cuantos kilos vendio??: 7\n",
            "el precio total es: 7000\n",
            "desea hacer otra consulta??? (si/no): s\n",
            "ingrese el nombre de la fruta: pera\n",
            "cuantos kilos vendio??: 10\n",
            "el precio total es: 4000\n",
            "desea hacer otra consulta??? (si/no): n\n"
          ]
        }
      ]
    }
  ]
}