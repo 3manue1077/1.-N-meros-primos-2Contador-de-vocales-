{
  "nbformat": 4,
  "nbformat_minor": 0,
  "metadata": {
    "colab": {
      "provenance": [],
      "include_colab_link": true
    },
    "kernelspec": {
      "name": "python3",
      "display_name": "Python 3"
    },
    "language_info": {
      "name": "python"
    }
  },
  "cells": [
    {
      "cell_type": "markdown",
      "metadata": {
        "id": "view-in-github",
        "colab_type": "text"
      },
      "source": [
        "<a href=\"https://colab.research.google.com/github/3manue1077/1.-N-meros-primos-2Contador-de-vocales-/blob/main/Untitled5.ipynb\" target=\"_parent\"><img src=\"https://colab.research.google.com/assets/colab-badge.svg\" alt=\"Open In Colab\"/></a>"
      ]
    },
    {
      "cell_type": "code",
      "source": [
        "#1\n",
        "\n",
        "#pedimos u  numero al usuario y lo convertimos a entero:\n",
        "numero= int(input(\"ingresa un numero entero: \"))\n",
        "\n",
        "#si el numero es 1 o menor, no es primo.\n",
        "if numero <= 1:\n",
        "    es_primo = False\n",
        "else:\n",
        "    for i in range(2, numero):\n",
        "        if numero % i == 0:\n",
        "            es_primo = False\n",
        "            break\n",
        "#si sige siendo true, es primo\n",
        "if es_primo:\n",
        "    print(\" es un numero primo.\")\n",
        "else:\n",
        "    print(\" no es un numero primo.\")\n",
        "\n",
        "    #junior Reyes\n",
        "    #emanuel Renteria\n",
        "\n",
        "\n",
        "\n",
        "\n",
        "\n"
      ],
      "metadata": {
        "colab": {
          "base_uri": "https://localhost:8080/"
        },
        "id": "mCvMVAQpS36h",
        "outputId": "ebfd8edb-a877-45f6-cc01-39f3d0d6c2cc"
      },
      "execution_count": null,
      "outputs": [
        {
          "output_type": "stream",
          "name": "stdout",
          "text": [
            "ingresa un numero entero: 3\n",
            " no es un numero primo.\n"
          ]
        }
      ]
    },
    {
      "cell_type": "code",
      "execution_count": null,
      "metadata": {
        "colab": {
          "base_uri": "https://localhost:8080/"
        },
        "id": "4gWfc372Oc-z",
        "outputId": "446e6d9b-23c7-4d30-cec2-529e70b91ed5"
      },
      "outputs": [
        {
          "output_type": "stream",
          "name": "stdout",
          "text": [
            "ingresa una cadena de texto: python\n",
            "la cadena contiene 1 vocal(es).\n"
          ]
        }
      ],
      "source": [
        "#2\n",
        "\n",
        "#pedimos cadena al usuario:\n",
        "cadena = input(\"ingresa una cadena de texto: \")\n",
        "#definimos vocales y contador:\n",
        "vocales = \"aeiou\"\n",
        "contador = 0\n",
        "\n",
        "#aqui recorremos la cadena del ejercicio\n",
        "for letra in cadena.lower():\n",
        "    if letra in vocales:\n",
        "        contador +=1\n",
        "#y aqui mostramos el resultador\n",
        "print(f\"la cadena contiene {contador} vocal(es).\")\n",
        "\n",
        "\n",
        "                        #junior Reyes\n",
        "                        #emanuel Renteria"
      ]
    }
  ]
}